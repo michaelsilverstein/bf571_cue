{
 "cells": [
  {
   "cell_type": "markdown",
   "metadata": {
    "id": "pS09mttQfBYm"
   },
   "source": [
    "# Carbon Use Efficiency\n",
    "\n",
    "Resources:\n",
    "* Models: http://bigg.ucsd.edu/models/"
   ]
  },
  {
   "cell_type": "code",
   "execution_count": 134,
   "metadata": {
    "id": "-ceGsVc0gndP"
   },
   "outputs": [],
   "source": [
    "import requests, cobra, tempfile, os, micom\n",
    "from cue_tools import CUEDef\n",
    "import pandas as pd\n",
    "import numpy as np\n",
    "import matplotlib.pyplot as plt\n",
    "import seaborn as sns"
   ]
  },
  {
   "cell_type": "markdown",
   "metadata": {},
   "source": [
    "# Functions"
   ]
  },
  {
   "cell_type": "code",
   "execution_count": 79,
   "metadata": {},
   "outputs": [],
   "source": [
    "def subsetCommunity(com, taxa):\n",
    "    \"\"\"\n",
    "    Compute fluxes of a subset of a micom community, `com` to the list in `taxa`\n",
    "    \n",
    "    Discussion about approaches: \n",
    "        https://github.com/micom-dev/micom/issues/33#issuecomment-827149831\n",
    "    \"\"\"\n",
    "    if isinstance(taxa, str):\n",
    "        taxa = [taxa]\n",
    "    # Remove tolerance to allow for 0 abundance\n",
    "    com._rtol = 0\n",
    "    # Create abundance series\n",
    "    abunds = pd.Series({t: 1 if t in set(taxa) else 0 for t in com.taxa})\n",
    "    com.set_abundance(abunds)"
   ]
  },
  {
   "cell_type": "markdown",
   "metadata": {
    "id": "HwW9R3f2flse"
   },
   "source": [
    "# Load"
   ]
  },
  {
   "cell_type": "code",
   "execution_count": 2,
   "metadata": {},
   "outputs": [],
   "source": [
    "\"\"\"Download models locally\"\"\"\n",
    "def downloadModels():\n",
    "    if not os.path.isdir('models/'):\n",
    "        os.makedirs('models/')\n",
    "    with open('spp.txt', 'r') as f:\n",
    "        IDS = f.readlines()\n",
    "        for ID in IDS:\n",
    "            ID = ID.strip()\n",
    "            url = f'http://bigg.ucsd.edu/static/models/{ID}.mat'\n",
    "            with requests.get(url) as resp:\n",
    "                with open(f'models/{ID}.mat', 'wb') as o:\n",
    "                    o.write(resp.content)"
   ]
  },
  {
   "cell_type": "code",
   "execution_count": 21,
   "metadata": {},
   "outputs": [
    {
     "data": {
      "text/html": [
       "<div>\n",
       "<style scoped>\n",
       "    .dataframe tbody tr th:only-of-type {\n",
       "        vertical-align: middle;\n",
       "    }\n",
       "\n",
       "    .dataframe tbody tr th {\n",
       "        vertical-align: top;\n",
       "    }\n",
       "\n",
       "    .dataframe thead th {\n",
       "        text-align: right;\n",
       "    }\n",
       "</style>\n",
       "<table border=\"1\" class=\"dataframe\">\n",
       "  <thead>\n",
       "    <tr style=\"text-align: right;\">\n",
       "      <th></th>\n",
       "      <th>id</th>\n",
       "      <th>file</th>\n",
       "    </tr>\n",
       "  </thead>\n",
       "  <tbody>\n",
       "    <tr>\n",
       "      <th>0</th>\n",
       "      <td>iIT341</td>\n",
       "      <td>models/iIT341</td>\n",
       "    </tr>\n",
       "    <tr>\n",
       "      <th>1</th>\n",
       "      <td>iLJ478</td>\n",
       "      <td>models/iLJ478</td>\n",
       "    </tr>\n",
       "    <tr>\n",
       "      <th>2</th>\n",
       "      <td>iAF692</td>\n",
       "      <td>models/iAF692</td>\n",
       "    </tr>\n",
       "    <tr>\n",
       "      <th>3</th>\n",
       "      <td>iNF517</td>\n",
       "      <td>models/iNF517</td>\n",
       "    </tr>\n",
       "    <tr>\n",
       "      <th>4</th>\n",
       "      <td>iHN637</td>\n",
       "      <td>models/iHN637</td>\n",
       "    </tr>\n",
       "    <tr>\n",
       "      <th>6</th>\n",
       "      <td>iJN678</td>\n",
       "      <td>models/iJN678</td>\n",
       "    </tr>\n",
       "    <tr>\n",
       "      <th>7</th>\n",
       "      <td>iJN746</td>\n",
       "      <td>models/iJN746</td>\n",
       "    </tr>\n",
       "    <tr>\n",
       "      <th>8</th>\n",
       "      <td>iJR904</td>\n",
       "      <td>models/iJR904</td>\n",
       "    </tr>\n",
       "    <tr>\n",
       "      <th>9</th>\n",
       "      <td>iND750</td>\n",
       "      <td>models/iND750</td>\n",
       "    </tr>\n",
       "    <tr>\n",
       "      <th>10</th>\n",
       "      <td>iAF987</td>\n",
       "      <td>models/iAF987</td>\n",
       "    </tr>\n",
       "  </tbody>\n",
       "</table>\n",
       "</div>"
      ],
      "text/plain": [
       "        id           file\n",
       "0   iIT341  models/iIT341\n",
       "1   iLJ478  models/iLJ478\n",
       "2   iAF692  models/iAF692\n",
       "3   iNF517  models/iNF517\n",
       "4   iHN637  models/iHN637\n",
       "6   iJN678  models/iJN678\n",
       "7   iJN746  models/iJN746\n",
       "8   iJR904  models/iJR904\n",
       "9   iND750  models/iND750\n",
       "10  iAF987  models/iAF987"
      ]
     },
     "execution_count": 21,
     "metadata": {},
     "output_type": "execute_result"
    }
   ],
   "source": [
    "\"\"\"Setup MICOM community\"\"\"\n",
    "# Don't load these models due to metabolite naming bugs\n",
    "no = ['iJB785', 'iRC1080']\n",
    "# Create input for MICOM\n",
    "id_df = pd.read_csv('spp.txt', header=None, names=['id'])\n",
    "id_df['file'] = 'models/'+id_df.id\n",
    "# Filter out bad IDs\n",
    "id_df = id_df[~id_df.id.isin(no)]\n",
    "id_df"
   ]
  },
  {
   "cell_type": "code",
   "execution_count": 7,
   "metadata": {},
   "outputs": [
    {
     "data": {
      "text/html": [
       "<pre style=\"white-space:pre;overflow-x:auto;line-height:normal;font-family:Menlo,'DejaVu Sans Mono',consolas,'Courier New',monospace\">Building <span style=\"color: #729c1f\">━━━━━━━━━━━━━━━━━━━━━━━━━━━━━━━━━━━━━━━━</span> <span style=\"color: #800080\">100%</span> <span style=\"color: #008080\">0:00:00</span>\n",
       "</pre>\n"
      ],
      "text/plain": [
       "<rich.jupyter.JupyterRenderable at 0x24577a67708>"
      ]
     },
     "metadata": {},
     "output_type": "display_data"
    }
   ],
   "source": [
    "\"\"\"Create multi-compartment 'Community' model\"\"\"\n",
    "def buildCommunity(id_df):\n",
    "    # ONLY FOR BUILDING COMMUNITY OBJECT, LOAD `community.pkl` directly in next cell for us\n",
    "    # Build model\n",
    "    com = micom.Community(id_df)\n",
    "    # Pickle\n",
    "    com.to_pickle('community.pkl')"
   ]
  },
  {
   "cell_type": "code",
   "execution_count": 107,
   "metadata": {},
   "outputs": [
    {
     "data": {
      "text/html": [
       "\n",
       "        <table>\n",
       "            <tr>\n",
       "                <td><strong>Name</strong></td>\n",
       "                <td>None</td>\n",
       "            </tr><tr>\n",
       "                <td><strong>Memory address</strong></td>\n",
       "                <td>0x024515d5e108</td>\n",
       "            </tr><tr>\n",
       "                <td><strong>Number of metabolites</strong></td>\n",
       "                <td>8013</td>\n",
       "            </tr><tr>\n",
       "                <td><strong>Number of reactions</strong></td>\n",
       "                <td>9329</td>\n",
       "            </tr><tr>\n",
       "                <td><strong>Number of groups</strong></td>\n",
       "                <td>0</td>\n",
       "            </tr><tr>\n",
       "                <td><strong>Objective expression</strong></td>\n",
       "                <td>1.0*community_objective</td>\n",
       "            </tr><tr>\n",
       "                <td><strong>Compartments</strong></td>\n",
       "                <td>c__iIT341, e__iIT341, m, c__iLJ478, e__iLJ478, c__iAF692, e__iAF692, c__iNF517, e__iNF517, e__iHN637, c__iHN637, e__iJN678, c__iJN678, u__iJN678, p__iJN678, e__iJN746, c__iJN746, p__iJN746, c__iJR904, e__iJR904, e__iND750, x__iND750, c__iND750, m__iND750, n__iND750, r__iND750, g__iND750, v__iND750, e__iAF987, c__iAF987, p__iAF987</td>\n",
       "            </tr>\n",
       "          </table>"
      ],
      "text/plain": [
       "<Community None at 0x24515d5e108>"
      ]
     },
     "execution_count": 107,
     "metadata": {},
     "output_type": "execute_result"
    }
   ],
   "source": [
    "\"\"\"Load community model\"\"\"\n",
    "com = micom.load_pickle('community.pkl')\n",
    "com"
   ]
  },
  {
   "cell_type": "code",
   "execution_count": 214,
   "metadata": {},
   "outputs": [
    {
     "data": {
      "text/plain": [
       "{'EX_pime_m': 10.0,\n",
       " 'EX_phe__L_m': 0.02,\n",
       " 'EX_pheme_m': 10.0,\n",
       " 'EX_pi_m': 999999.0,\n",
       " 'EX_fe2_m': 999999.0,\n",
       " 'EX_fe3_m': 999999.0,\n",
       " 'EX_glc__D_m': 20.0,\n",
       " 'EX_glu__L_m': 0.05,\n",
       " 'EX_gly_m': 0.04,\n",
       " 'EX_gua_m': 0.00906,\n",
       " 'EX_h2_m': 100.0,\n",
       " 'EX_h2o_m': 999999.0,\n",
       " 'EX_h_m': 999999.0,\n",
       " 'EX_his__L_m': 10.0,\n",
       " 'EX_ile__L_m': 10.0,\n",
       " 'EX_leu__L_m': 10.0,\n",
       " 'EX_lys__L_m': 0.04,\n",
       " 'EX_met__L_m': 10.0,\n",
       " 'EX_na1_m': 999999.0,\n",
       " 'EX_nh4_m': 999999.0,\n",
       " 'EX_ni2_m': 999999.0,\n",
       " 'EX_no3_m': 1000.0,\n",
       " 'EX_o2_m': 999999.0,\n",
       " 'EX_orot_m': 0.00439,\n",
       " 'EX_ser__L_m': 0.11,\n",
       " 'EX_so4_m': 999999.0,\n",
       " 'EX_thm_m': 1000.0,\n",
       " 'EX_thr__L_m': 0.06,\n",
       " 'EX_thymd_m': 0.00283,\n",
       " 'EX_ura_m': 0.01222,\n",
       " 'EX_val__L_m': 10.0,\n",
       " 'EX_xan_m': 0.00901,\n",
       " 'EX_ac_m': 8.88,\n",
       " 'EX_ade_m': 0.01014,\n",
       " 'EX_ala__D_m': 10.0,\n",
       " 'EX_ala__L_m': 10.0,\n",
       " 'EX_arg__L_m': 10.0,\n",
       " 'EX_asp__L_m': 0.01,\n",
       " 'EX_co2_m': 999999.0,\n",
       " 'EX_cys__L_m': 999999.0,\n",
       " 'EX_fru_m': 5.0,\n",
       " 'EX_h2s_m': 999999.0,\n",
       " 'EX_hco3_m': 100.0,\n",
       " 'EX_k_m': 999999.0,\n",
       " 'EX_malt_m': 2.794,\n",
       " 'EX_mg2_m': 999999.0,\n",
       " 'EX_s_m': 4.0,\n",
       " 'EX_zn2_m': 999999.0,\n",
       " 'EX_pnto__R_m': 0.00062,\n",
       " 'EX_ribflv_m': 1000.0,\n",
       " 'EX_so3_m': 999999.0,\n",
       " 'EX_4abz_m': 999999.0,\n",
       " 'EX_btn_m': 1000.0,\n",
       " 'EX_ca2_m': 999999.0,\n",
       " 'EX_cd2_m': 999999.0,\n",
       " 'EX_cl_m': 999999.0,\n",
       " 'EX_cobalt2_m': 999999.0,\n",
       " 'EX_cu2_m': 999999.0,\n",
       " 'EX_fol_m': 1000.0,\n",
       " 'EX_meoh_m': 5.1,\n",
       " 'EX_mn2_m': 999999.0,\n",
       " 'EX_mobd_m': 999999.0,\n",
       " 'EX_n2_m': 999999.0,\n",
       " 'EX_nac_m': 999999.0,\n",
       " 'EX_ins_m': 0.00255,\n",
       " 'EX_cro4_m': 999999.0,\n",
       " 'EX_cu_m': 999999.0,\n",
       " 'EX_tungs_m': 999999.0}"
      ]
     },
     "execution_count": 214,
     "metadata": {},
     "output_type": "execute_result"
    }
   ],
   "source": [
    "com.medium"
   ]
  },
  {
   "cell_type": "code",
   "execution_count": 129,
   "metadata": {},
   "outputs": [
    {
     "data": {
      "text/plain": [
       "{'iIT341': 'Helicobacter pylori 26695',\n",
       " 'iLJ478': 'Thermotoga maritima MSB8',\n",
       " 'iAF692': 'Methanosarcina barkeri str. Fusaro',\n",
       " 'iNF517': 'Lactococcus lactis subsp. cremoris MG1363',\n",
       " 'iHN637': 'Clostridium ljungdahlii DSM 13528',\n",
       " 'iJN678': 'Synechocystis sp. PCC 6803',\n",
       " 'iJN746': 'Pseudomonas putida KT2440',\n",
       " 'iJR904': 'Escherichia coli str. K-12 substr. MG1655',\n",
       " 'iND750': 'Saccharomyces cerevisiae S288C',\n",
       " 'iAF987': 'Geobacter metallireducens GS-15'}"
      ]
     },
     "execution_count": 129,
     "metadata": {},
     "output_type": "execute_result"
    }
   ],
   "source": [
    "\"\"\"Who are these guys?\"\"\"\n",
    "# Faster to qurey API than to load models\n",
    "api_url = 'http://bigg.ucsd.edu/api/v2/models/{}'.format\n",
    "{t: requests.get(api_url(t)).json()['organism'] for t in com.taxa}"
   ]
  },
  {
   "cell_type": "markdown",
   "metadata": {},
   "source": [
    "# Compute CUE for mono and co-cultures\n",
    "Strategy: Build [micom](https://micom-dev.github.io/micom/) community model and then subset to mono and co-cultures. Building the community model once will prevent loading models for each community.\n",
    "\n",
    "Discussion on GitHub with developer about issues: https://github.com/micom-dev/micom/issues/33#issuecomment-827149831\n",
    "\n",
    "Assumptions:\n",
    "* Even communities (50% abundance for both organisms)\n",
    "* Non-fixed media: medias are model dependent and co-culture medias are a combination of medias from individual models\n"
   ]
  },
  {
   "cell_type": "code",
   "execution_count": 108,
   "metadata": {},
   "outputs": [
    {
     "data": {
      "text/html": [
       "<div>\n",
       "<style scoped>\n",
       "    .dataframe tbody tr th:only-of-type {\n",
       "        vertical-align: middle;\n",
       "    }\n",
       "\n",
       "    .dataframe tbody tr th {\n",
       "        vertical-align: top;\n",
       "    }\n",
       "\n",
       "    .dataframe thead th {\n",
       "        text-align: right;\n",
       "    }\n",
       "</style>\n",
       "<table border=\"1\" class=\"dataframe\">\n",
       "  <thead>\n",
       "    <tr style=\"text-align: right;\">\n",
       "      <th></th>\n",
       "      <th>iIT341</th>\n",
       "      <th>iLJ478</th>\n",
       "      <th>iAF692</th>\n",
       "      <th>iNF517</th>\n",
       "      <th>iHN637</th>\n",
       "      <th>iJN678</th>\n",
       "      <th>iJN746</th>\n",
       "      <th>iJR904</th>\n",
       "      <th>iND750</th>\n",
       "      <th>iAF987</th>\n",
       "    </tr>\n",
       "  </thead>\n",
       "  <tbody>\n",
       "    <tr>\n",
       "      <th>iIT341</th>\n",
       "      <td>0.726312</td>\n",
       "      <td>NaN</td>\n",
       "      <td>0.250622</td>\n",
       "      <td>0.067122</td>\n",
       "      <td>0.051814</td>\n",
       "      <td>0.272886</td>\n",
       "      <td>0.506330</td>\n",
       "      <td>0.208087</td>\n",
       "      <td>0.103884</td>\n",
       "      <td>0.242394</td>\n",
       "    </tr>\n",
       "    <tr>\n",
       "      <th>iLJ478</th>\n",
       "      <td>NaN</td>\n",
       "      <td>0.211992</td>\n",
       "      <td>0.212486</td>\n",
       "      <td>0.093458</td>\n",
       "      <td>0.059052</td>\n",
       "      <td>0.233262</td>\n",
       "      <td>0.215456</td>\n",
       "      <td>0.206659</td>\n",
       "      <td>0.109393</td>\n",
       "      <td>0.207846</td>\n",
       "    </tr>\n",
       "    <tr>\n",
       "      <th>iAF692</th>\n",
       "      <td>0.250622</td>\n",
       "      <td>0.212486</td>\n",
       "      <td>0.226688</td>\n",
       "      <td>0.092195</td>\n",
       "      <td>0.058435</td>\n",
       "      <td>0.240648</td>\n",
       "      <td>0.230615</td>\n",
       "      <td>0.207181</td>\n",
       "      <td>0.109229</td>\n",
       "      <td>0.215045</td>\n",
       "    </tr>\n",
       "    <tr>\n",
       "      <th>iNF517</th>\n",
       "      <td>0.067122</td>\n",
       "      <td>0.093458</td>\n",
       "      <td>0.092195</td>\n",
       "      <td>0.034940</td>\n",
       "      <td>0.047603</td>\n",
       "      <td>0.119832</td>\n",
       "      <td>0.037039</td>\n",
       "      <td>0.191554</td>\n",
       "      <td>0.086518</td>\n",
       "      <td>0.088794</td>\n",
       "    </tr>\n",
       "    <tr>\n",
       "      <th>iHN637</th>\n",
       "      <td>0.051814</td>\n",
       "      <td>0.059052</td>\n",
       "      <td>0.058435</td>\n",
       "      <td>0.047603</td>\n",
       "      <td>0.048769</td>\n",
       "      <td>0.066098</td>\n",
       "      <td>0.049117</td>\n",
       "      <td>0.146907</td>\n",
       "      <td>0.069581</td>\n",
       "      <td>0.078657</td>\n",
       "    </tr>\n",
       "    <tr>\n",
       "      <th>iJN678</th>\n",
       "      <td>0.272886</td>\n",
       "      <td>0.233262</td>\n",
       "      <td>0.240648</td>\n",
       "      <td>0.119832</td>\n",
       "      <td>0.066098</td>\n",
       "      <td>0.258565</td>\n",
       "      <td>0.261038</td>\n",
       "      <td>0.209290</td>\n",
       "      <td>0.117573</td>\n",
       "      <td>0.236863</td>\n",
       "    </tr>\n",
       "    <tr>\n",
       "      <th>iJN746</th>\n",
       "      <td>0.506330</td>\n",
       "      <td>0.215456</td>\n",
       "      <td>0.230615</td>\n",
       "      <td>0.037039</td>\n",
       "      <td>0.049117</td>\n",
       "      <td>0.261038</td>\n",
       "      <td>0.655291</td>\n",
       "      <td>0.207117</td>\n",
       "      <td>0.100637</td>\n",
       "      <td>0.221057</td>\n",
       "    </tr>\n",
       "    <tr>\n",
       "      <th>iJR904</th>\n",
       "      <td>0.208087</td>\n",
       "      <td>0.206659</td>\n",
       "      <td>0.207181</td>\n",
       "      <td>0.191554</td>\n",
       "      <td>0.146907</td>\n",
       "      <td>0.209290</td>\n",
       "      <td>0.207117</td>\n",
       "      <td>0.206956</td>\n",
       "      <td>0.174188</td>\n",
       "      <td>0.206807</td>\n",
       "    </tr>\n",
       "    <tr>\n",
       "      <th>iND750</th>\n",
       "      <td>0.103884</td>\n",
       "      <td>0.109393</td>\n",
       "      <td>0.109229</td>\n",
       "      <td>0.086518</td>\n",
       "      <td>0.069581</td>\n",
       "      <td>0.117573</td>\n",
       "      <td>0.100637</td>\n",
       "      <td>0.174188</td>\n",
       "      <td>0.100192</td>\n",
       "      <td>0.108246</td>\n",
       "    </tr>\n",
       "    <tr>\n",
       "      <th>iAF987</th>\n",
       "      <td>0.242394</td>\n",
       "      <td>0.207846</td>\n",
       "      <td>0.215045</td>\n",
       "      <td>0.088794</td>\n",
       "      <td>0.078657</td>\n",
       "      <td>0.236863</td>\n",
       "      <td>0.221057</td>\n",
       "      <td>0.206807</td>\n",
       "      <td>0.108246</td>\n",
       "      <td>NaN</td>\n",
       "    </tr>\n",
       "  </tbody>\n",
       "</table>\n",
       "</div>"
      ],
      "text/plain": [
       "          iIT341    iLJ478    iAF692    iNF517    iHN637    iJN678    iJN746  \\\n",
       "iIT341  0.726312       NaN  0.250622  0.067122  0.051814  0.272886  0.506330   \n",
       "iLJ478       NaN  0.211992  0.212486  0.093458  0.059052  0.233262  0.215456   \n",
       "iAF692  0.250622  0.212486  0.226688  0.092195  0.058435  0.240648  0.230615   \n",
       "iNF517  0.067122  0.093458  0.092195  0.034940  0.047603  0.119832  0.037039   \n",
       "iHN637  0.051814  0.059052  0.058435  0.047603  0.048769  0.066098  0.049117   \n",
       "iJN678  0.272886  0.233262  0.240648  0.119832  0.066098  0.258565  0.261038   \n",
       "iJN746  0.506330  0.215456  0.230615  0.037039  0.049117  0.261038  0.655291   \n",
       "iJR904  0.208087  0.206659  0.207181  0.191554  0.146907  0.209290  0.207117   \n",
       "iND750  0.103884  0.109393  0.109229  0.086518  0.069581  0.117573  0.100637   \n",
       "iAF987  0.242394  0.207846  0.215045  0.088794  0.078657  0.236863  0.221057   \n",
       "\n",
       "          iJR904    iND750    iAF987  \n",
       "iIT341  0.208087  0.103884  0.242394  \n",
       "iLJ478  0.206659  0.109393  0.207846  \n",
       "iAF692  0.207181  0.109229  0.215045  \n",
       "iNF517  0.191554  0.086518  0.088794  \n",
       "iHN637  0.146907  0.069581  0.078657  \n",
       "iJN678  0.209290  0.117573  0.236863  \n",
       "iJN746  0.207117  0.100637  0.221057  \n",
       "iJR904  0.206956  0.174188  0.206807  \n",
       "iND750  0.174188  0.100192  0.108246  \n",
       "iAF987  0.206807  0.108246       NaN  "
      ]
     },
     "execution_count": 108,
     "metadata": {},
     "output_type": "execute_result"
    }
   ],
   "source": [
    "\"\"\"Compute CUE for each mono and co-culture\"\"\"\n",
    "# micom.logger.logging.disable() # shhhhhh\n",
    "N = len(com.taxa)\n",
    "data = np.zeros((N, N))\n",
    "for i in range(N):\n",
    "    id1 = com.taxa[i]\n",
    "    id1_data = []\n",
    "    for j in range(i, N):\n",
    "        id2 = com.taxa[j]\n",
    "        \n",
    "        # Subset community\n",
    "        taxa = {id1, id2}\n",
    "        subsetCommunity(com, taxa)\n",
    "        \n",
    "        # Compute CUE for community\n",
    "        try:\n",
    "            cue = CUEDef(com).loc['Def 1'].squeeze()\n",
    "        except:\n",
    "            cue = None\n",
    "        \n",
    "        # Save\n",
    "        data[i, j] = data[j, i] = cue\n",
    "# Ingest into df\n",
    "cue_df = pd.DataFrame(data, com.taxa, com.taxa)\n",
    "cue_df.to_csv('community_cue.csv')\n",
    "cue_df"
   ]
  },
  {
   "cell_type": "markdown",
   "metadata": {},
   "source": [
    "# CUE analysis"
   ]
  },
  {
   "cell_type": "code",
   "execution_count": 195,
   "metadata": {},
   "outputs": [
    {
     "data": {
      "text/html": [
       "<div>\n",
       "<style scoped>\n",
       "    .dataframe tbody tr th:only-of-type {\n",
       "        vertical-align: middle;\n",
       "    }\n",
       "\n",
       "    .dataframe tbody tr th {\n",
       "        vertical-align: top;\n",
       "    }\n",
       "\n",
       "    .dataframe thead th {\n",
       "        text-align: right;\n",
       "    }\n",
       "</style>\n",
       "<table border=\"1\" class=\"dataframe\">\n",
       "  <thead>\n",
       "    <tr style=\"text-align: right;\">\n",
       "      <th></th>\n",
       "      <th>id1</th>\n",
       "      <th>id2</th>\n",
       "      <th>cue</th>\n",
       "    </tr>\n",
       "  </thead>\n",
       "  <tbody>\n",
       "    <tr>\n",
       "      <th>0</th>\n",
       "      <td>iIT341</td>\n",
       "      <td>iIT341</td>\n",
       "      <td>0.726312</td>\n",
       "    </tr>\n",
       "    <tr>\n",
       "      <th>1</th>\n",
       "      <td>iIT341</td>\n",
       "      <td>iAF692</td>\n",
       "      <td>0.250622</td>\n",
       "    </tr>\n",
       "    <tr>\n",
       "      <th>2</th>\n",
       "      <td>iIT341</td>\n",
       "      <td>iNF517</td>\n",
       "      <td>0.067122</td>\n",
       "    </tr>\n",
       "    <tr>\n",
       "      <th>3</th>\n",
       "      <td>iIT341</td>\n",
       "      <td>iHN637</td>\n",
       "      <td>0.051814</td>\n",
       "    </tr>\n",
       "    <tr>\n",
       "      <th>4</th>\n",
       "      <td>iIT341</td>\n",
       "      <td>iJN678</td>\n",
       "      <td>0.272886</td>\n",
       "    </tr>\n",
       "  </tbody>\n",
       "</table>\n",
       "</div>"
      ],
      "text/plain": [
       "      id1     id2       cue\n",
       "0  iIT341  iIT341  0.726312\n",
       "1  iIT341  iAF692  0.250622\n",
       "2  iIT341  iNF517  0.067122\n",
       "3  iIT341  iHN637  0.051814\n",
       "4  iIT341  iJN678  0.272886"
      ]
     },
     "execution_count": 195,
     "metadata": {},
     "output_type": "execute_result"
    }
   ],
   "source": [
    "\"\"\"Load CUE results\"\"\"\n",
    "wide_cue_df = pd.read_csv('community_cue.csv', index_col=0)\n",
    "# Stack\n",
    "cue_df = wide_cue_df.rename_axis(index='id1', columns='id2').stack().rename('cue').reset_index()\n",
    "# Dereplicated version\n",
    "ids = cue_df.id1.unique()\n",
    "derep = pd.DataFrame([{'id1': ids[i], 'id2': ids[j]} for i in range(len(ids)) for j in range(i, len(ids))])\n",
    "derep_cue = cue_df.merge(derep)\n",
    "cue_df.head()"
   ]
  },
  {
   "cell_type": "code",
   "execution_count": 211,
   "metadata": {},
   "outputs": [
    {
     "data": {
      "image/png": "[encoded data removed]",
      "text/plain": [
       "<Figure size 576x432 with 2 Axes>"
      ]
     },
     "metadata": {
      "needs_background": "light"
     },
     "output_type": "display_data"
    }
   ],
   "source": [
    "\"\"\"Heatmap\"\"\"\n",
    "plt.figure(figsize=(8,6))\n",
    "lowert = derep_cue.pivot('id1', 'id2', 'cue').loc[ids[:-1], ids].T\n",
    "sns.heatmap(lowert, cbar_kws={'shrink': .7, 'label': 'CUE'}, linewidths=.1)\n",
    "plt.xlabel('')\n",
    "plt.ylabel('')\n",
    "plt.show()"
   ]
  },
  {
   "cell_type": "code",
   "execution_count": 177,
   "metadata": {},
   "outputs": [
    {
     "data": {
      "image/png": "[encoded data removed]",
      "text/plain": [
       "<Figure size 432x288 with 1 Axes>"
      ]
     },
     "metadata": {
      "needs_background": "light"
     },
     "output_type": "display_data"
    }
   ],
   "source": [
    "\"\"\"Distribution of monoculture\"\"\"\n",
    "derep_cue['monoculture'] = derep_cue.id1.eq(derep_cue.id2)\n",
    "kwargs = {'x': 'monoculture', 'y': 'cue', 'data': derep_cue}\n",
    "sns.violinplot(**kwargs, cut=0)\n",
    "sns.swarmplot(**kwargs, color='.8')\n",
    "plt.show()"
   ]
  }
 ],
 "metadata": {
  "colab": {
   "name": "CUE.ipynb",
   "provenance": []
  },
  "kernelspec": {
   "display_name": "Python 3",
   "language": "python",
   "name": "python3"
  },
  "language_info": {
   "codemirror_mode": {
    "name": "ipython",
    "version": 3
   },
   "file_extension": ".py",
   "mimetype": "text/x-python",
   "name": "python",
   "nbconvert_exporter": "python",
   "pygments_lexer": "ipython3",
   "version": "3.8.3"
  }
 },
 "nbformat": 4,
 "nbformat_minor": 4
}
