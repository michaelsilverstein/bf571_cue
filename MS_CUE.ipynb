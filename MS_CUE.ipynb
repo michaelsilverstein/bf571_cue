{
 "cells": [
  {
   "cell_type": "markdown",
   "metadata": {
    "id": "pS09mttQfBYm"
   },
   "source": [
    "# Carbon Use Efficiency\n",
    "\n",
    "Resources:\n",
    "* Models: http://bigg.ucsd.edu/models/"
   ]
  },
  {
   "cell_type": "code",
   "execution_count": null,
   "metadata": {
    "id": "-ceGsVc0gndP"
   },
   "outputs": [],
   "source": [
    "import requests, cobra, tempfile"
   ]
  },
  {
   "cell_type": "code",
   "execution_count": 1,
   "metadata": {},
   "outputs": [],
   "source": [
    "from cue_tools import loadModelURL"
   ]
  },
  {
   "cell_type": "code",
   "execution_count": null,
   "metadata": {
    "id": "G1dtmI-OilND"
   },
   "outputs": [],
   "source": [
    "def loadModelURL(url):\n",
    "    \"\"\"Load SMBL cobra model from a URL\"\"\"\n",
    "    with tempfile.NamedTemporaryFile('w') as tf:\n",
    "        handle = requests.get(url)\n",
    "        tf.write(handle.text)\n",
    "        model = cobra.io.read_sbml_model(tf.name)\n",
    "        return model"
   ]
  },
  {
   "cell_type": "markdown",
   "metadata": {
    "id": "HwW9R3f2flse"
   },
   "source": [
    "# Load"
   ]
  },
  {
   "cell_type": "code",
   "execution_count": null,
   "metadata": {
    "colab": {
     "base_uri": "https://localhost:8080/",
     "height": 169
    },
    "executionInfo": {
     "elapsed": 1362,
     "status": "ok",
     "timestamp": 1617031279276,
     "user": {
      "displayName": "Lina Kroehling",
      "photoUrl": "",
      "userId": "09209769641671571919"
     },
     "user_tz": 240
    },
    "id": "_gDpYfe4fjbe",
    "outputId": "f5685738-0f40-4636-de43-9df54811bd6f"
   },
   "outputs": [
    {
     "data": {
      "text/html": [
       "\n",
       "        <table>\n",
       "            <tr>\n",
       "                <td><strong>Name</strong></td>\n",
       "                <td>e_coli_core</td>\n",
       "            </tr><tr>\n",
       "                <td><strong>Memory address</strong></td>\n",
       "                <td>0x07efd219fde10</td>\n",
       "            </tr><tr>\n",
       "                <td><strong>Number of metabolites</strong></td>\n",
       "                <td>72</td>\n",
       "            </tr><tr>\n",
       "                <td><strong>Number of reactions</strong></td>\n",
       "                <td>95</td>\n",
       "            </tr><tr>\n",
       "                <td><strong>Number of groups</strong></td>\n",
       "                <td>0</td>\n",
       "            </tr><tr>\n",
       "                <td><strong>Objective expression</strong></td>\n",
       "                <td>1.0*BIOMASS_Ecoli_core_w_GAM - 1.0*BIOMASS_Ecoli_core_w_GAM_reverse_712e5</td>\n",
       "            </tr><tr>\n",
       "                <td><strong>Compartments</strong></td>\n",
       "                <td>extracellular space, cytosol</td>\n",
       "            </tr>\n",
       "          </table>"
      ],
      "text/plain": [
       "<Model e_coli_core at 0x7efd219fde10>"
      ]
     },
     "execution_count": 4,
     "metadata": {
      "tags": []
     },
     "output_type": "execute_result"
    }
   ],
   "source": [
    "\"\"\"Load model\"\"\"\n",
    "url = 'http://bigg.ucsd.edu/static/models/e_coli_core.xml'\n",
    "model = loadModelURL(url)\n",
    "model"
   ]
  },
  {
   "cell_type": "code",
   "execution_count": 31,
   "metadata": {
    "executionInfo": {
     "elapsed": 497,
     "status": "ok",
     "timestamp": 1617031864269,
     "user": {
      "displayName": "Michael Silverstein",
      "photoUrl": "https://lh3.googleusercontent.com/a-/AOh14GhLU6oGk1VJd2kJHZT3bAbrWSiCxA7ayGSJPaJE=s64",
      "userId": "06561539164265460231"
     },
     "user_tz": 240
    },
    "id": "eJh5WV57gBRs"
   },
   "outputs": [],
   "source": [
    "res = model.optimize()\n"
   ]
  }
 ],
 "metadata": {
  "colab": {
   "name": "CUE.ipynb",
   "provenance": []
  },
  "kernelspec": {
   "display_name": "Python 3",
   "language": "python",
   "name": "python3"
  },
  "language_info": {
   "codemirror_mode": {
    "name": "ipython",
    "version": 3
   },
   "file_extension": ".py",
   "mimetype": "text/x-python",
   "name": "python",
   "nbconvert_exporter": "python",
   "pygments_lexer": "ipython3",
   "version": "3.7.6"
  }
 },
 "nbformat": 4,
 "nbformat_minor": 4
}
