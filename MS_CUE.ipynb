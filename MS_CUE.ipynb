{
 "cells": [
  {
   "cell_type": "markdown",
   "metadata": {
    "id": "pS09mttQfBYm"
   },
   "source": [
    "# Carbon Use Efficiency\n",
    "\n",
    "Resources:\n",
    "* Models: http://bigg.ucsd.edu/models/"
   ]
  },
  {
   "cell_type": "code",
   "execution_count": 1,
   "metadata": {
    "id": "-ceGsVc0gndP"
   },
   "outputs": [],
   "source": [
    "import requests, cobra, tempfile, os\n",
    "from cue_tools import loadModelURL, computeCUE"
   ]
  },
  {
   "cell_type": "markdown",
   "metadata": {
    "id": "HwW9R3f2flse"
   },
   "source": [
    "# Load"
   ]
  },
  {
   "cell_type": "code",
   "execution_count": 2,
   "metadata": {
    "colab": {
     "base_uri": "https://localhost:8080/",
     "height": 169
    },
    "executionInfo": {
     "elapsed": 1362,
     "status": "ok",
     "timestamp": 1617031279276,
     "user": {
      "displayName": "Lina Kroehling",
      "photoUrl": "",
      "userId": "09209769641671571919"
     },
     "user_tz": 240
    },
    "id": "_gDpYfe4fjbe",
    "outputId": "f5685738-0f40-4636-de43-9df54811bd6f"
   },
   "outputs": [
    {
     "data": {
      "text/html": [
       "\n",
       "        <table>\n",
       "            <tr>\n",
       "                <td><strong>Name</strong></td>\n",
       "                <td>e_coli_core</td>\n",
       "            </tr><tr>\n",
       "                <td><strong>Memory address</strong></td>\n",
       "                <td>0x019de3895c48</td>\n",
       "            </tr><tr>\n",
       "                <td><strong>Number of metabolites</strong></td>\n",
       "                <td>72</td>\n",
       "            </tr><tr>\n",
       "                <td><strong>Number of reactions</strong></td>\n",
       "                <td>95</td>\n",
       "            </tr><tr>\n",
       "                <td><strong>Number of groups</strong></td>\n",
       "                <td>0</td>\n",
       "            </tr><tr>\n",
       "                <td><strong>Objective expression</strong></td>\n",
       "                <td>1.0*BIOMASS_Ecoli_core_w_GAM - 1.0*BIOMASS_Ecoli_core_w_GAM_reverse_712e5</td>\n",
       "            </tr><tr>\n",
       "                <td><strong>Compartments</strong></td>\n",
       "                <td>e, c</td>\n",
       "            </tr>\n",
       "          </table>"
      ],
      "text/plain": [
       "<Model e_coli_core at 0x19de3895c48>"
      ]
     },
     "execution_count": 2,
     "metadata": {},
     "output_type": "execute_result"
    }
   ],
   "source": [
    "\"\"\"Load model\"\"\"\n",
    "url = 'http://bigg.ucsd.edu/static/models/e_coli_core.mat'\n",
    "model = loadModelURL(url, 'mat')\n",
    "model"
   ]
  },
  {
   "cell_type": "markdown",
   "metadata": {},
   "source": [
    "# Compute CUE"
   ]
  },
  {
   "cell_type": "code",
   "execution_count": 4,
   "metadata": {},
   "outputs": [
    {
     "data": {
      "text/plain": [
       "0.038313366655662595"
      ]
     },
     "execution_count": 4,
     "metadata": {},
     "output_type": "execute_result"
    }
   ],
   "source": [
    "\"\"\"Compute CUE\"\"\"\n",
    "biomass_rxn = 'BIOMASS_Ecoli_core_w_GAM'\n",
    "co2_secretion = 'EX_co2_e'\n",
    "\n",
    "cue = computeCUE(model, biomass_rxn, co2_secretion)\n",
    "cue"
   ]
  }
 ],
 "metadata": {
  "colab": {
   "name": "CUE.ipynb",
   "provenance": []
  },
  "kernelspec": {
   "display_name": "Python 3",
   "language": "python",
   "name": "python3"
  },
  "language_info": {
   "codemirror_mode": {
    "name": "ipython",
    "version": 3
   },
   "file_extension": ".py",
   "mimetype": "text/x-python",
   "name": "python",
   "nbconvert_exporter": "python",
   "pygments_lexer": "ipython3",
   "version": "3.7.6"
  }
 },
 "nbformat": 4,
 "nbformat_minor": 4
}
